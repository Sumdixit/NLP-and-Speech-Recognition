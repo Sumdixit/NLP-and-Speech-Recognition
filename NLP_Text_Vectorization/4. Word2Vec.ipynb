{
 "cells": [
  {
   "cell_type": "markdown",
   "id": "a3d78fd0-878b-4c3a-ad66-bcb2abeeb50a",
   "metadata": {},
   "source": [
    "# <center> <font size = 24 color = 'steelblue'> <b> Word2Vec"
   ]
  },
  {
   "cell_type": "markdown",
   "id": "ab933a5a-5528-4523-afdf-1d66e9e37362",
   "metadata": {},
   "source": [
    "## Overview:\n",
    "\n",
    "The goal is to provide a comprehensive understanding of Word2Vec, covering its key concepts, architecture, and working principles, including CBOW and Skip-gram models. It explains training, vector representation, loss functions, benefits, applications, and limitations, followed by practical implementation. The code example demonstrates library imports, corpus tokenization, model training, extracting word vectors, finding similar words, and visualizing word embeddings."
   ]
  },
  {
   "cell_type": "markdown",
   "id": "b1d07cb1-1ad4-4d39-8c15-500403e50463",
   "metadata": {},
   "source": [
    "# Table of Contents\n",
    "\n",
    "1. [Overview and Explanation](#overview-and-explanation)\n",
    "2. [Key Concepts](#key-concepts)\n",
    "3. [Architecture](#architecture)\n",
    "    - [Continuous Bag of Words (CBOW)](#continuous-bag-of-words-cbow)\n",
    "    - [Skip-gram](#skip-gram)\n",
    "4. [Working Principle](#working-principle)\n",
    "    - [Training Data](#training-data)\n",
    "    - [Vector Representation](#vector-representation)\n",
    "    - [Loss Function](#loss-function)\n",
    "5. [Benefits of Word2Vec](#benefits-of-word2vec)\n",
    "6. [Applications](#applications)\n",
    "7. [Limitations](#limitations)\n",
    "8. [Code Example](#code-example)\n",
    "    - [Import necessary libraries](#import-necessary-libraries)\n",
    "    - [Sample corpus](#sample-corpus)\n",
    "    - [Tokenizing the sentences](#tokenizing-the-sentences)\n",
    "    - [Train the Word2Vec model](#train-the-word2vec-model)\n",
    "    - [Get vector for a specific word](#get-vector-for-a-specific-word)\n",
    "    - [Get the most similar words to a given word](#get-the-most-similar-words-to-a-given-word)\n",
    "    - [Visualizing Word Vectors](#visualizing-word-vectors)\n"
   ]
  },
  {
   "cell_type": "markdown",
   "id": "161333fd-321b-46a9-91ca-9be127686210",
   "metadata": {},
   "source": [
    "# Word2Vec: Overview and Explanation\n",
    "\n",
    "Word2Vec is a popular technique for natural language processing (NLP) that transforms words into numerical vectors in such a way that words with similar meanings have similar representations. Developed by a team led by Tomas Mikolov at Google in 2013, Word2Vec employs neural networks to learn word associations from large datasets.\n",
    "\n",
    "## Key Concepts\n",
    "\n",
    "- **Embedding**: A low-dimensional, continuous vector representation of discrete variables (in this case, words).\n",
    "- **Semantic Similarity**: The ability to quantify how similar the meanings of words are based on their vector representations.\n",
    "\n",
    "## Architecture\n",
    "\n",
    "Word2Vec can be implemented using two primary models:\n",
    "\n",
    "1. **Continuous Bag of Words (CBOW)**:\n",
    "   - Predicts a target word based on its context (surrounding words).\n",
    "   - Efficient for small datasets, captures global statistical information.\n",
    "\n",
    "   **Process**:\n",
    "   - **Input**: Context words.\n",
    "   - **Output**: Target word.\n",
    "\n",
    "   ![Image Description](https://labcontent.simplicdn.net/data-content/content-assets/Data_and_AI/NLP/cbow.png)\n",
    "\n",
    "\n",
    "2. **Skip-gram**:\n",
    "   - Predicts context words from a given target word.\n",
    "   - More effective for larger datasets, captures more local information.\n",
    "\n",
    "   **Process**:\n",
    "   - **Input**: Target word.\n",
    "   - **Output**: Context words.\n",
    "\n",
    "   ![Image Description](https://labcontent.simplicdn.net/data-content/content-assets/Data_and_AI/NLP/skipgram.png)\n",
    "\n",
    "## Working Principle\n",
    "\n",
    "1. **Training Data**:\n",
    "   - Utilizes large corpuses of text.\n",
    "   - The model learns word relationships based on the frequency of words appearing together in a specified window of text.\n",
    "\n",
    "2. **Vector Representation**:\n",
    "   - Each word is represented as a dense vector in a continuous vector space.\n",
    "   - The number of dimensions in this space is a hyperparameter that can be adjusted (commonly 100-300 dimensions).\n",
    "\n",
    "3. **Loss Function**:\n",
    "   - Uses a loss function to measure the difference between the predicted word probabilities and the actual words. The objective is to minimize this loss through backpropagation.\n",
    "\n",
    "## Benefits of Word2Vec\n",
    "\n",
    "- **Efficiency**: Can process large datasets efficiently due to its architecture.\n",
    "- **Captures Contextual Information**: Models semantic relationships and contextual information between words.\n",
    "- **Dimensionality Reduction**: Converts high-dimensional one-hot encoded vectors into lower-dimensional dense vectors, making computations more efficient.\n",
    "\n",
    "## Applications\n",
    "\n",
    "- **Sentiment Analysis**: Understanding the sentiment of text based on word associations.\n",
    "- **Machine Translation**: Translating text between languages by understanding contextual word meanings.\n",
    "- **Information Retrieval**: Enhancing search algorithms by understanding the semantic similarity between search queries and documents.\n",
    "- **Text Classification**: Classifying documents based on content.\n",
    "\n",
    "## Limitations\n",
    "\n",
    "- **Out of Vocabulary (OOV)**: Words not present in the training corpus cannot be represented.\n",
    "- **No Contextual Information**: Does not capture word order, which can be significant in understanding meaning.\n",
    "- **Bias**: May inherit biases present in the training data, leading to skewed word representations.\n",
    "\n",
    "\n"
   ]
  },
  {
   "cell_type": "code",
   "execution_count": null,
   "id": "2c74b8ca-ae80-4625-9669-de969ef5e0da",
   "metadata": {},
   "outputs": [],
   "source": [
    "# Install libraries if not done\n",
    "!pip install gensim==4.2.0\n",
    "!pip install nltk==3.8.1\n",
    "!pip install numpy==1.23.5\n",
    "!pip install matplotlib==3.6.3\n",
    "!pip install scikit-learn==1.3.1 "
   ]
  },
  {
   "cell_type": "code",
   "execution_count": 9,
   "id": "86a55c2d-1210-45ea-81a2-2cf28639fcca",
   "metadata": {},
   "outputs": [],
   "source": [
    "# Import necessary libraries\n",
    "import gensim\n",
    "from gensim.models import Word2Vec\n",
    "from nltk.tokenize import word_tokenize\n",
    "import numpy as np\n",
    "import matplotlib.pyplot as plt\n",
    "from sklearn.decomposition import PCA\n",
    "import nltk"
   ]
  },
  {
   "cell_type": "code",
   "execution_count": 10,
   "id": "1717186b-a3b9-4aff-bb2d-eb91d6dcf69c",
   "metadata": {},
   "outputs": [
    {
     "name": "stderr",
     "output_type": "stream",
     "text": [
      "[nltk_data] Downloading package punkt to /voc/work/nltk_data...\n",
      "[nltk_data]   Package punkt is already up-to-date!\n"
     ]
    },
    {
     "data": {
      "text/plain": [
       "True"
      ]
     },
     "execution_count": 10,
     "metadata": {},
     "output_type": "execute_result"
    }
   ],
   "source": [
    "# Ensure necessary NLTK resources are downloaded\n",
    "nltk.download('punkt')"
   ]
  },
  {
   "cell_type": "code",
   "execution_count": 11,
   "id": "1babbe33-4c9a-42b2-ae5d-0a7bb06cdfbf",
   "metadata": {},
   "outputs": [],
   "source": [
    "# Sample corpus (list of sentences)\n",
    "corpus = [\n",
    "    \"Word embeddings are a type of word representation\",\n",
    "    \"Word2Vec is a method to create word embeddings\",\n",
    "    \"It uses a neural network model to learn word associations\",\n",
    "    \"Word embeddings can capture semantic meanings\",\n",
    "    \"They are widely used in natural language processing tasks\"\n",
    "]"
   ]
  },
  {
   "cell_type": "code",
   "execution_count": 12,
   "id": "d2e10f83-f4be-4dc5-b3c9-d2985d10f14e",
   "metadata": {},
   "outputs": [],
   "source": [
    "# Tokenizing the sentences\n",
    "tokenized_corpus = [word_tokenize(sentence.lower()) for sentence in corpus]"
   ]
  },
  {
   "cell_type": "code",
   "execution_count": 13,
   "id": "882d60df-74d4-4e13-a95b-34c3672372d6",
   "metadata": {},
   "outputs": [],
   "source": [
    "# Train the Word2Vec model\n",
    "model = Word2Vec(sentences=tokenized_corpus, vector_size=100, window=5, min_count=1, sg=0)"
   ]
  },
  {
   "cell_type": "code",
   "execution_count": 14,
   "id": "541d8e4f-b680-4aff-bfdb-a8b7746e96c3",
   "metadata": {},
   "outputs": [
    {
     "name": "stdout",
     "output_type": "stream",
     "text": [
      "Vector for 'word2vec':\n",
      " [-0.00515624 -0.00666834 -0.00777684  0.00831073 -0.00198234 -0.00685496\n",
      " -0.00415439  0.00514413 -0.00286914 -0.00374966  0.00162143 -0.00277629\n",
      " -0.00158436  0.00107449 -0.00297794  0.00851928  0.00391094 -0.00995886\n",
      "  0.0062596  -0.00675425  0.00076943  0.00440423 -0.00510337 -0.00211067\n",
      "  0.00809548 -0.00424379 -0.00763626  0.00925791 -0.0021555  -0.00471943\n",
      "  0.0085708   0.00428334  0.00432484  0.00928451 -0.00845308  0.00525532\n",
      "  0.00203935  0.00418828  0.0016979   0.00446413  0.00448629  0.00610452\n",
      " -0.0032021  -0.00457573 -0.00042652  0.00253373 -0.00326317  0.00605772\n",
      "  0.00415413  0.00776459  0.00256927  0.00811668 -0.00138721  0.00807793\n",
      "  0.00371702 -0.00804732 -0.00393361 -0.00247188  0.00489304 -0.00087216\n",
      " -0.00283091  0.00783371  0.0093229  -0.00161493 -0.00515925 -0.00470176\n",
      " -0.00484605 -0.00960283  0.00137202 -0.00422492  0.00252671  0.00561448\n",
      " -0.00406591 -0.00959658  0.0015467  -0.00670012  0.00249517 -0.00378063\n",
      "  0.00707842  0.00064022  0.00356094 -0.00273913 -0.00171055  0.00765279\n",
      "  0.00140768 -0.00585045 -0.0078345   0.00123269  0.00645463  0.00555635\n",
      " -0.00897705  0.00859216  0.00404698  0.00746961  0.00974633 -0.00728958\n",
      " -0.00903996  0.005836    0.00939121  0.00350693]\n"
     ]
    }
   ],
   "source": [
    "# Get vector for a specific word\n",
    "word_vector = model.wv['word2vec']\n",
    "print(\"Vector for 'word2vec':\\n\", word_vector)"
   ]
  },
  {
   "cell_type": "code",
   "execution_count": 15,
   "id": "a9d4692f-6f95-418d-b3a8-b80a85d35ce2",
   "metadata": {},
   "outputs": [
    {
     "name": "stdout",
     "output_type": "stream",
     "text": [
      "\n",
      "Most similar words to 'word':\n",
      " [('processing', 0.2188088595867157), ('word2vec', 0.21617142856121063), ('natural', 0.19545407593250275), ('network', 0.15161021053791046), ('in', 0.09937167167663574)]\n"
     ]
    }
   ],
   "source": [
    "# Get the most similar words to a given word\n",
    "similar_words = model.wv.most_similar('word', topn=5)\n",
    "print(\"\\nMost similar words to 'word':\\n\", similar_words)"
   ]
  },
  {
   "cell_type": "code",
   "execution_count": 16,
   "id": "4c65b73c-6e74-4135-a2aa-a9ae20b5bfb5",
   "metadata": {},
   "outputs": [
    {
     "data": {
      "image/png": "[encoded data removed]",
      "text/plain": [
       "<Figure size 720x720 with 1 Axes>"
      ]
     },
     "metadata": {
      "needs_background": "light"
     },
     "output_type": "display_data"
    }
   ],
   "source": [
    "# Visualizing Word Vectors\n",
    "# Get the word vectors\n",
    "words = list(model.wv.index_to_key)\n",
    "word_vectors = model.wv[words]\n",
    "\n",
    "# Reduce dimensions with PCA\n",
    "pca = PCA(n_components=2)\n",
    "reduced_vectors = pca.fit_transform(word_vectors)\n",
    "\n",
    "# Plotting the word vectors\n",
    "plt.figure(figsize=(10, 10))\n",
    "plt.scatter(reduced_vectors[:, 0], reduced_vectors[:, 1])\n",
    "\n",
    "# Annotate each point\n",
    "for i, word in enumerate(words):\n",
    "    plt.annotate(word, xy=(reduced_vectors[i, 0], reduced_vectors[i, 1]))\n",
    "\n",
    "plt.title(\"Word2Vec Visualization\")\n",
    "plt.xlabel(\"PCA Component 1\")\n",
    "plt.ylabel(\"PCA Component 2\")\n",
    "plt.grid()\n",
    "plt.show()"
   ]
  }
 ],
 "metadata": {
  "kernelspec": {
   "display_name": "Python 3 [3.10]",
   "language": "python",
   "name": "python3"
  },
  "language_info": {
   "codemirror_mode": {
    "name": "ipython",
    "version": 3
   },
   "file_extension": ".py",
   "mimetype": "text/x-python",
   "name": "python",
   "nbconvert_exporter": "python",
   "pygments_lexer": "ipython3",
   "version": "3.10.2"
  }
 },
 "nbformat": 4,
 "nbformat_minor": 5
}
